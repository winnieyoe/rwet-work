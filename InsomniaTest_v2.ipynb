{
 "cells": [
  {
   "cell_type": "markdown",
   "metadata": {},
   "source": [
    "# Source Text 1: \n",
    "\n",
    "I kept all the \"Patient Information Leaflet\" of the three medications I was prescribed for my insomnia in the past three months and decided to investigate their content computationally. "
   ]
  },
  {
   "cell_type": "code",
   "execution_count": 1,
   "metadata": {},
   "outputs": [],
   "source": [
    "prazosin_words = open(\"./Prazosin.txt\").read().split()\n",
    "doxepin_words = open(\"./Doxepin.txt\").read().split()\n",
    "temazepam_words = open(\"./Temazepam.txt\").read().split()"
   ]
  },
  {
   "cell_type": "code",
   "execution_count": 2,
   "metadata": {},
   "outputs": [],
   "source": [
    "import spacy\n",
    "nlp = spacy.load('en_core_web_lg')"
   ]
  },
  {
   "cell_type": "markdown",
   "metadata": {},
   "source": [
    "## 1. Find Most Common Words "
   ]
  },
  {
   "cell_type": "code",
   "execution_count": 3,
   "metadata": {},
   "outputs": [],
   "source": [
    "from collections import Counter"
   ]
  },
  {
   "cell_type": "markdown",
   "metadata": {},
   "source": [
    "#### Print most common words in prazosin document"
   ]
  },
  {
   "cell_type": "code",
   "execution_count": 4,
   "metadata": {},
   "outputs": [],
   "source": [
    "count = Counter(prazosin_words)\n",
    "mostCommon_p = count.most_common(50)\n",
    "\n",
    "p_common = []\n",
    "for a, b in mostCommon_p:\n",
    "    p_common.append(a)"
   ]
  },
  {
   "cell_type": "markdown",
   "metadata": {},
   "source": [
    "#### Print most common words in doxepin document"
   ]
  },
  {
   "cell_type": "code",
   "execution_count": 5,
   "metadata": {},
   "outputs": [],
   "source": [
    "count = Counter(doxepin_words)\n",
    "mostCommon_d = count.most_common(50)\n",
    "\n",
    "d_common = []\n",
    "for a, b in mostCommon_d:\n",
    "    d_common.append(a)"
   ]
  },
  {
   "cell_type": "markdown",
   "metadata": {},
   "source": [
    "#### Print most common words in temazepin document"
   ]
  },
  {
   "cell_type": "code",
   "execution_count": 6,
   "metadata": {},
   "outputs": [],
   "source": [
    "count = Counter(temazepam_words)\n",
    "mostCommon_t = count.most_common(50)\n",
    "\n",
    "t_common = []\n",
    "for a, b in mostCommon_t:\n",
    "    t_common.append(a)"
   ]
  },
  {
   "cell_type": "code",
   "execution_count": 7,
   "metadata": {},
   "outputs": [
    {
     "data": {
      "text/plain": [
       "['or',\n",
       " 'your',\n",
       " 'you',\n",
       " 'to',\n",
       " 'of',\n",
       " 'may',\n",
       " 'doctor',\n",
       " 'a',\n",
       " 'this',\n",
       " 'the',\n",
       " 'as',\n",
       " 'and',\n",
       " 'if',\n",
       " 'not',\n",
       " 'have',\n",
       " 'side',\n",
       " 'for',\n",
       " 'medication',\n",
       " '(such',\n",
       " 'is',\n",
       " 'If',\n",
       " 'pharmacist',\n",
       " 'it',\n",
       " 'This',\n",
       " 'can',\n",
       " 'risk',\n",
       " 'serious',\n",
       " 'that',\n",
       " 'effects',\n",
       " 'sleep',\n",
       " 'do',\n",
       " 'be',\n",
       " 'with',\n",
       " 'any',\n",
       " 'other',\n",
       " 'right',\n",
       " 'at',\n",
       " 'use',\n",
       " 'taking',\n",
       " 'medical',\n",
       " 'away',\n",
       " 'get',\n",
       " 'using',\n",
       " 'drug',\n",
       " 'cause',\n",
       " 'tell',\n",
       " 'effects.',\n",
       " 'medications',\n",
       " 'take',\n",
       " 'these']"
      ]
     },
     "execution_count": 7,
     "metadata": {},
     "output_type": "execute_result"
    }
   ],
   "source": [
    "t_common"
   ]
  },
  {
   "cell_type": "code",
   "execution_count": 8,
   "metadata": {},
   "outputs": [
    {
     "name": "stdout",
     "output_type": "stream",
     "text": [
      "['your', 'or', 'the', 'to', 'and', 'you', 'of', 'this', 'as', 'may', 'doctor', 'dose', 'not', 'blood', '(such', 'is', 'a', 'for', 'side', 'with', 'If', 'first', 'if', 'medication', 'that', 'pharmacist', 'other', 'can', 'be', 'at', 'it', 'taking', 'drug', 'Do', 'any', 'are', 'effects', 'about', 'products', 'more', 'medical', 'risk', 'This', 'when', 'effects.', 'have', 'serious', 'all', 'Prazosin', 'pressure', 'using', 'drugs', 'in', 'mental/mood', 'right', 'medications', 'take', 'symptoms', 'sleep', 'do', 'use', 'away', 'get', 'cause', 'tell', 'these']\n"
     ]
    }
   ],
   "source": [
    "commonList = p_common + d_common + t_common\n",
    "commonList = list(dict.fromkeys(commonList))\n",
    "print(commonList)"
   ]
  },
  {
   "cell_type": "code",
   "execution_count": 9,
   "metadata": {},
   "outputs": [
    {
     "data": {
      "text/plain": [
       "66"
      ]
     },
     "execution_count": 9,
     "metadata": {},
     "output_type": "execute_result"
    }
   ],
   "source": [
    "len(commonList)"
   ]
  },
  {
   "cell_type": "markdown",
   "metadata": {},
   "source": [
    "## 2. Find Most Common Sounds"
   ]
  },
  {
   "cell_type": "code",
   "execution_count": 10,
   "metadata": {},
   "outputs": [],
   "source": [
    "import pronouncing as pr"
   ]
  },
  {
   "cell_type": "markdown",
   "metadata": {},
   "source": [
    "### phonemes in prazosin"
   ]
  },
  {
   "cell_type": "code",
   "execution_count": 11,
   "metadata": {},
   "outputs": [],
   "source": [
    "all_phonemes = []\n",
    "for item in prazosin_words: \n",
    "    item = item.strip(\".,\").lower()\n",
    "    phones = pr.phones_for_word(item)\n",
    "    if len(phones) > 0:\n",
    "        (phones[0].split())\n",
    "        all_phonemes.extend(phones[0].split())"
   ]
  },
  {
   "cell_type": "code",
   "execution_count": 12,
   "metadata": {
    "scrolled": false
   },
   "outputs": [
    {
     "data": {
      "text/plain": [
       "[('IH1', 1), ('NG', 1)]"
      ]
     },
     "execution_count": 12,
     "metadata": {},
     "output_type": "execute_result"
    }
   ],
   "source": [
    "Counter(phones[0].split()).most_common(2)"
   ]
  },
  {
   "cell_type": "code",
   "execution_count": 13,
   "metadata": {},
   "outputs": [],
   "source": [
    "all_phonemes = []\n",
    "for item in doxepin_words: \n",
    "    item = item.strip(\".,\").lower()\n",
    "    phones = pr.phones_for_word(item)\n",
    "    if len(phones) > 0:\n",
    "        (phones[0].split())\n",
    "        all_phonemes.extend(phones[0].split())"
   ]
  },
  {
   "cell_type": "code",
   "execution_count": 14,
   "metadata": {},
   "outputs": [
    {
     "data": {
      "text/plain": [
       "[('IH1', 1), ('NG', 1)]"
      ]
     },
     "execution_count": 14,
     "metadata": {},
     "output_type": "execute_result"
    }
   ],
   "source": [
    "Counter(phones[0].split()).most_common(2)"
   ]
  },
  {
   "cell_type": "code",
   "execution_count": 15,
   "metadata": {},
   "outputs": [],
   "source": [
    "all_phonemes = []\n",
    "for item in temazepam_words: \n",
    "    item = item.strip(\".,\").lower()\n",
    "    phones = pr.phones_for_word(item)\n",
    "    if len(phones) > 0:\n",
    "        t_phones = (phones[0].split())\n",
    "        all_phonemes.extend(phones[0].split())"
   ]
  },
  {
   "cell_type": "code",
   "execution_count": 16,
   "metadata": {},
   "outputs": [
    {
     "data": {
      "text/plain": [
       "[('IH1', 1), ('NG', 1), ('K', 1)]"
      ]
     },
     "execution_count": 16,
     "metadata": {},
     "output_type": "execute_result"
    }
   ],
   "source": [
    "Counter(t_phones).most_common(3)"
   ]
  },
  {
   "cell_type": "markdown",
   "metadata": {},
   "source": [
    "### Most Common phones and words in P_Words"
   ]
  },
  {
   "cell_type": "code",
   "execution_count": 17,
   "metadata": {},
   "outputs": [],
   "source": [
    "p_result_IH = [word for word in pr.search(\"IH1\") if word in prazosin_words]\n",
    "p_result_NG = [word for word in pr.search(\"NG\") if word in prazosin_words]\n",
    "p_result_K = [word for word in pr.search(\"K\") if word in prazosin_words]"
   ]
  },
  {
   "cell_type": "code",
   "execution_count": 18,
   "metadata": {},
   "outputs": [
    {
     "name": "stdout",
     "output_type": "stream",
     "text": [
      "['activities', 'additional', 'antihistamines', 'children', 'clear', 'clearly', 'condition', 'conditions', 'continue', 'dizziness', 'dizzy', 'get', 'getting', 'if', 'in', 'increase', 'increased', 'injured', 'interfere', 'into', 'is', 'it', 'kidney', 'list', 'listed', 'miss', 'missed', 'near', 'nonprescription', 'participate', 'persist', 'possibility', 'prescription', 'printed', 'provincial', 'risk', 'risks', 'serious', 'severe', 'sit', 'skip', 'symptoms', 'this', 'until', 'vision', 'when', 'which', 'will', 'with', 'anxiety', 'anything', 'belongs', 'causing', 'consulting', 'driving', 'during', 'fainting', 'going', 'having', 'long', 'longer', 'lying', 'passing', 'pounding', 'prolonged', 'readings', 'relaxing', 'restarting', 'rising', 'screening', 'standing', 'starting', 'swelling', 'taking', 'using', 'widening', 'alcoholic', 'allergic', 'ask', 'attacks', 'because', 'become', 'blocker', 'blockers', 'call', 'called', 'can', 'careful', 'catch', 'cause', 'checked', 'class', 'company', 'complete', 'constipation', 'contact', 'contain', 'control', 'cough', 'could', 'decrease', 'directed', 'discard', 'doctor', \"doctor's\", 'doctors', 'document', 'effectiveness', 'effects', 'erection', 'exact', 'exercise', 'expired', 'frequent', 'inactive', 'instructed', 'interact', 'interactions', 'local', 'make', 'medical', 'medication', 'medications', 'next', 'occasionally', 'occur', 'prescribed', 'prescribes', 'product', 'products', 'questions', 'reaction', 'reactions', 'reduction', 'seek', 'stomach', 'take', 'taken', 'takes', 'uncontrolled', 'unlikely', 'week', 'weeks', 'work', 'works']\n"
     ]
    }
   ],
   "source": [
    "p_results = p_result_IH + p_result_NG + p_result_K\n",
    "\n",
    "p_results = list(dict.fromkeys(p_results))\n",
    "print(p_results)"
   ]
  },
  {
   "cell_type": "markdown",
   "metadata": {},
   "source": [
    "### Most Common phones and words in T_Words"
   ]
  },
  {
   "cell_type": "code",
   "execution_count": 19,
   "metadata": {},
   "outputs": [],
   "source": [
    "t_result_IH = [word for word in pr.search(\"IH1\") if word in temazepam_words]\n",
    "t_result_NG = [word for word in pr.search(\"NG\") if word in temazepam_words]\n",
    "t_result_K = [word for word in pr.search(\"K\") if word in temazepam_words]"
   ]
  },
  {
   "cell_type": "code",
   "execution_count": 20,
   "metadata": {},
   "outputs": [
    {
     "name": "stdout",
     "output_type": "stream",
     "text": [
      "['activities', 'addiction', 'antihistamines', 'been', 'children', 'condition', 'continues', 'difficulty', 'dizziness', 'driven', 'get', 'history', 'if', 'in', 'increase', 'increased', 'into', 'is', 'it', 'kidney', 'limited', 'list', 'listed', 'liver', 'milk', 'miss', 'nonprescription', 'periods', 'persists', 'prescription', 'provincial', 'risk', 'serious', 'severe', 'sitting', 'symptoms', 'think', 'this', 'until', 'when', 'which', 'will', 'with', 'anxiety', 'anything', 'avoiding', 'belongs', 'breathing', 'calming', 'childbearing', 'during', 'going', 'having', 'including', 'long', 'longer', 'lying', 'nursing', 'passing', 'planning', 'rising', 'sleeping', 'taking', 'using', 'waking', 'working', 'acts', 'alcohol', 'alcoholic', 'allergic', 'ask', 'awake', 'because', 'become', 'caffeine', 'call', 'called', 'can', 'cannot', 'cause', 'chronic', 'class', 'close', 'complete', 'contact', 'contain', 'control', 'coordination', 'cough', 'directed', 'discard', 'doctor', \"doctor's\", 'document', 'effect', 'effects', 'exactly', 'excessive', 'expired', 'inactive', 'include', 'instructed', 'interact', 'interactions', 'local', 'make', 'makes', 'medical', 'medication', 'medications', 'obstructive', 'occur', 'prescribed', 'product', 'products', 'reaction', 'reactions', 'sex', 'stomach', 'take', 'taken', 'talk', 'vehicles', 'wake', 'weeks', 'work']\n"
     ]
    }
   ],
   "source": [
    "t_results = t_result_IH + t_result_NG + t_result_K\n",
    "\n",
    "t_results = list(dict.fromkeys(t_results))\n",
    "print(t_results)"
   ]
  },
  {
   "cell_type": "markdown",
   "metadata": {},
   "source": [
    "### Most Common phones and words in D_Words"
   ]
  },
  {
   "cell_type": "code",
   "execution_count": 21,
   "metadata": {},
   "outputs": [],
   "source": [
    "d_result_IH = [word for word in pr.search(\"IH1\") if word in doxepin_words]\n",
    "d_result_NG = [word for word in pr.search(\"NG\") if word in doxepin_words]\n",
    "d_result_K = [word for word in pr.search(\"K\") if word in doxepin_words]"
   ]
  },
  {
   "cell_type": "code",
   "execution_count": 22,
   "metadata": {},
   "outputs": [
    {
     "name": "stdout",
     "output_type": "stream",
     "text": [
      "['antihistamines', 'children', 'clear', 'clearly', 'condition', 'conditions', 'continue', 'difficulty', 'dizziness', 'dizzy', 'drink', 'experience', 'get', 'history', 'if', 'in', 'increase', 'increased', 'inhibitors', 'into', 'is', 'it', 'list', 'listed', 'liver', 'milk', 'miss', 'missed', 'near', 'nonprescription', 'persist', 'persistent', 'persists', 'prescription', 'provincial', 'rhythm', 'risk', 'risks', 'serious', 'severe', 'sitting', 'skin', 'skip', 'symptoms', 'think', 'this', 'until', 'vision', 'when', 'which', 'will', 'with', 'within', 'affecting', 'among', 'anxiety', 'anything', 'belongs', 'bleeding', 'breathing', 'clothing', 'consulting', 'during', 'feelings', 'following', 'having', 'including', 'longer', 'lying', 'nursing', 'passing', 'planning', 'rising', 'seeing', 'selecting', 'stopping', 'taking', 'tanning', 'urinating', 'using', 'worsening', 'younger', 'affect', 'affects', 'alcoholic', 'allergic', 'antibiotics', 'because', 'become', 'call', 'called', 'can', 'candy', 'cardiac', 'catch', 'cause', 'check', 'chemicals', 'class', 'company', 'complete', 'constipated', 'consult', 'contact', 'contain', 'control', 'cough', 'currently', 'decongestants', 'direct', 'directed', 'discard', 'discuss', 'doctor', \"doctor's\", 'document', 'effects', 'exercise', 'expired', 'extreme', 'glaucoma', 'inactive', 'include', 'instructed', 'instructions', 'interact', 'interactions', 'local', 'make', 'medical', 'medication', 'medications', 'next', 'overactive', 'panic', 'prescribed', 'product', 'products', 'protective', 'psychiatric', 'reaction', 'reactions', 'seek', 'suck', 'sunscreen', 'take', 'taken', 'talk', 'weeks', 'work', 'works']\n"
     ]
    }
   ],
   "source": [
    "d_results = d_result_IH + d_result_NG + d_result_K\n",
    "\n",
    "d_results = list(dict.fromkeys(d_results))\n",
    "print(d_results)"
   ]
  },
  {
   "cell_type": "markdown",
   "metadata": {},
   "source": [
    "### Most common phones in all three text"
   ]
  },
  {
   "cell_type": "code",
   "execution_count": 23,
   "metadata": {},
   "outputs": [
    {
     "name": "stdout",
     "output_type": "stream",
     "text": [
      "['activities', 'additional', 'antihistamines', 'children', 'clear', 'clearly', 'condition', 'conditions', 'continue', 'dizziness', 'dizzy', 'get', 'getting', 'if', 'in', 'increase', 'increased', 'injured', 'interfere', 'into', 'is', 'it', 'kidney', 'list', 'listed', 'miss', 'missed', 'near', 'nonprescription', 'participate', 'persist', 'possibility', 'prescription', 'printed', 'provincial', 'risk', 'risks', 'serious', 'severe', 'sit', 'skip', 'symptoms', 'this', 'until', 'vision', 'when', 'which', 'will', 'with', 'anxiety', 'anything', 'belongs', 'causing', 'consulting', 'driving', 'during', 'fainting', 'going', 'having', 'long', 'longer', 'lying', 'passing', 'pounding', 'prolonged', 'readings', 'relaxing', 'restarting', 'rising', 'screening', 'standing', 'starting', 'swelling', 'taking', 'using', 'widening', 'alcoholic', 'allergic', 'ask', 'attacks', 'because', 'become', 'blocker', 'blockers', 'call', 'called', 'can', 'careful', 'catch', 'cause', 'checked', 'class', 'company', 'complete', 'constipation', 'contact', 'contain', 'control', 'cough', 'could', 'decrease', 'directed', 'discard', 'doctor', \"doctor's\", 'doctors', 'document', 'effectiveness', 'effects', 'erection', 'exact', 'exercise', 'expired', 'frequent', 'inactive', 'instructed', 'interact', 'interactions', 'local', 'make', 'medical', 'medication', 'medications', 'next', 'occasionally', 'occur', 'prescribed', 'prescribes', 'product', 'products', 'questions', 'reaction', 'reactions', 'reduction', 'seek', 'stomach', 'take', 'taken', 'takes', 'uncontrolled', 'unlikely', 'week', 'weeks', 'work', 'works', 'addiction', 'been', 'continues', 'difficulty', 'driven', 'history', 'limited', 'liver', 'milk', 'periods', 'persists', 'sitting', 'think', 'avoiding', 'breathing', 'calming', 'childbearing', 'including', 'nursing', 'planning', 'sleeping', 'waking', 'working', 'acts', 'alcohol', 'awake', 'caffeine', 'cannot', 'chronic', 'close', 'coordination', 'effect', 'exactly', 'excessive', 'include', 'makes', 'obstructive', 'sex', 'talk', 'vehicles', 'wake', 'drink', 'experience', 'inhibitors', 'persistent', 'rhythm', 'skin', 'within', 'affecting', 'among', 'bleeding', 'clothing', 'feelings', 'following', 'seeing', 'selecting', 'stopping', 'tanning', 'urinating', 'worsening', 'younger', 'affect', 'affects', 'antibiotics', 'candy', 'cardiac', 'check', 'chemicals', 'constipated', 'consult', 'currently', 'decongestants', 'direct', 'discuss', 'extreme', 'glaucoma', 'instructions', 'overactive', 'panic', 'protective', 'psychiatric', 'suck', 'sunscreen']\n"
     ]
    }
   ],
   "source": [
    "phoneList = p_results + t_results + d_results\n",
    "\n",
    "phoneList = list(dict.fromkeys(phoneList))\n",
    "print(phoneList)"
   ]
  },
  {
   "cell_type": "code",
   "execution_count": 24,
   "metadata": {},
   "outputs": [
    {
     "data": {
      "text/plain": [
       "228"
      ]
     },
     "execution_count": 24,
     "metadata": {},
     "output_type": "execute_result"
    }
   ],
   "source": [
    "len(phoneList)"
   ]
  },
  {
   "cell_type": "markdown",
   "metadata": {},
   "source": [
    "## 3. Get the part of speech from two results"
   ]
  },
  {
   "cell_type": "code",
   "execution_count": 25,
   "metadata": {},
   "outputs": [],
   "source": [
    "med_str = ' '.join(commonList + phoneList)"
   ]
  },
  {
   "cell_type": "code",
   "execution_count": 26,
   "metadata": {},
   "outputs": [
    {
     "data": {
      "text/plain": [
       "\"your or the to and you of this as may doctor dose not blood (such is a for side with If first if medication that pharmacist other can be at it taking drug Do any are effects about products more medical risk This when effects. have serious all Prazosin pressure using drugs in mental/mood right medications take symptoms sleep do use away get cause tell these activities additional antihistamines children clear clearly condition conditions continue dizziness dizzy get getting if in increase increased injured interfere into is it kidney list listed miss missed near nonprescription participate persist possibility prescription printed provincial risk risks serious severe sit skip symptoms this until vision when which will with anxiety anything belongs causing consulting driving during fainting going having long longer lying passing pounding prolonged readings relaxing restarting rising screening standing starting swelling taking using widening alcoholic allergic ask attacks because become blocker blockers call called can careful catch cause checked class company complete constipation contact contain control cough could decrease directed discard doctor doctor's doctors document effectiveness effects erection exact exercise expired frequent inactive instructed interact interactions local make medical medication medications next occasionally occur prescribed prescribes product products questions reaction reactions reduction seek stomach take taken takes uncontrolled unlikely week weeks work works addiction been continues difficulty driven history limited liver milk periods persists sitting think avoiding breathing calming childbearing including nursing planning sleeping waking working acts alcohol awake caffeine cannot chronic close coordination effect exactly excessive include makes obstructive sex talk vehicles wake drink experience inhibitors persistent rhythm skin within affecting among bleeding clothing feelings following seeing selecting stopping tanning urinating worsening younger affect affects antibiotics candy cardiac check chemicals constipated consult currently decongestants direct discuss extreme glaucoma instructions overactive panic protective psychiatric suck sunscreen\""
      ]
     },
     "execution_count": 26,
     "metadata": {},
     "output_type": "execute_result"
    }
   ],
   "source": [
    "med_str"
   ]
  },
  {
   "cell_type": "code",
   "execution_count": 27,
   "metadata": {},
   "outputs": [],
   "source": [
    "med_doc = nlp(med_str)"
   ]
  },
  {
   "cell_type": "code",
   "execution_count": 28,
   "metadata": {},
   "outputs": [],
   "source": [
    "med_nouns = [item.text for item in med_doc if item.tag_ == 'NN']"
   ]
  },
  {
   "cell_type": "code",
   "execution_count": 29,
   "metadata": {},
   "outputs": [
    {
     "data": {
      "text/plain": [
       "['dose',\n",
       " 'blood',\n",
       " 'side',\n",
       " 'medication',\n",
       " 'pharmacist',\n",
       " 'drug',\n",
       " 'risk',\n",
       " 'pressure',\n",
       " 'mood',\n",
       " 'sleep',\n",
       " 'cause',\n",
       " 'condition',\n",
       " 'dizziness',\n",
       " 'increase',\n",
       " 'kidney',\n",
       " 'list',\n",
       " 'participate',\n",
       " 'possibility',\n",
       " 'prescription',\n",
       " 'risk',\n",
       " 'sit',\n",
       " 'vision',\n",
       " 'anxiety',\n",
       " 'anything',\n",
       " 'ask',\n",
       " 'blocker',\n",
       " 'catch',\n",
       " 'cause',\n",
       " 'class',\n",
       " 'company',\n",
       " 'constipation',\n",
       " 'contact',\n",
       " 'control',\n",
       " 'cough',\n",
       " 'doctor',\n",
       " 'doctor',\n",
       " 'effectiveness',\n",
       " 'erection',\n",
       " 'exercise',\n",
       " 'medication',\n",
       " 'product',\n",
       " 'reaction',\n",
       " 'reduction',\n",
       " 'stomach',\n",
       " 'week',\n",
       " 'work',\n",
       " 'addiction',\n",
       " 'difficulty',\n",
       " 'history',\n",
       " 'liver',\n",
       " 'milk',\n",
       " 'think',\n",
       " 'breathing',\n",
       " 'nursing',\n",
       " 'planning',\n",
       " 'working',\n",
       " 'alcohol',\n",
       " 'caffeine',\n",
       " 'coordination',\n",
       " 'effect',\n",
       " 'sex',\n",
       " 'talk',\n",
       " 'drink',\n",
       " 'experience',\n",
       " 'rhythm',\n",
       " 'skin',\n",
       " 'clothing',\n",
       " 'affect',\n",
       " 'candy',\n",
       " 'check',\n",
       " 'consult',\n",
       " 'discuss',\n",
       " 'glaucoma',\n",
       " 'panic',\n",
       " 'suck',\n",
       " 'sunscreen']"
      ]
     },
     "execution_count": 29,
     "metadata": {},
     "output_type": "execute_result"
    }
   ],
   "source": [
    "med_nouns"
   ]
  },
  {
   "cell_type": "code",
   "execution_count": 30,
   "metadata": {},
   "outputs": [],
   "source": [
    "med_pronouns = [item.text for item in med_doc if item.tag_ == 'PRP']"
   ]
  },
  {
   "cell_type": "code",
   "execution_count": 31,
   "metadata": {},
   "outputs": [
    {
     "data": {
      "text/plain": [
       "['you', 'it', 'it']"
      ]
     },
     "execution_count": 31,
     "metadata": {},
     "output_type": "execute_result"
    }
   ],
   "source": [
    "med_pronouns"
   ]
  },
  {
   "cell_type": "code",
   "execution_count": 32,
   "metadata": {},
   "outputs": [],
   "source": [
    "med_verb = [item.text for item in med_doc if item.tag_ == 'VBZ']"
   ]
  },
  {
   "cell_type": "code",
   "execution_count": 33,
   "metadata": {},
   "outputs": [
    {
     "data": {
      "text/plain": [
       "['is',\n",
       " 'is',\n",
       " 'belongs',\n",
       " 'prescribes',\n",
       " 'takes',\n",
       " 'works',\n",
       " 'continues',\n",
       " 'persists',\n",
       " 'acts',\n",
       " 'makes',\n",
       " 'affects']"
      ]
     },
     "execution_count": 33,
     "metadata": {},
     "output_type": "execute_result"
    }
   ],
   "source": [
    "med_verb"
   ]
  },
  {
   "cell_type": "code",
   "execution_count": 34,
   "metadata": {},
   "outputs": [],
   "source": [
    "med_verb_ing = [item.text for item in med_doc if item.tag_ == 'VBG']"
   ]
  },
  {
   "cell_type": "code",
   "execution_count": 35,
   "metadata": {},
   "outputs": [],
   "source": [
    "med_adj = [item.text for item in med_doc if item.tag_ == 'JJ']"
   ]
  },
  {
   "cell_type": "code",
   "execution_count": 36,
   "metadata": {},
   "outputs": [
    {
     "data": {
      "text/plain": [
       "['such',\n",
       " 'first',\n",
       " 'other',\n",
       " 'medical',\n",
       " 'serious',\n",
       " 'mental',\n",
       " 'right',\n",
       " 'additional',\n",
       " 'clear',\n",
       " 'dizzy',\n",
       " 'nonprescription',\n",
       " 'provincial',\n",
       " 'serious',\n",
       " 'severe',\n",
       " 'alcoholic',\n",
       " 'allergic',\n",
       " 'complete',\n",
       " 'exact',\n",
       " 'frequent',\n",
       " 'inactive',\n",
       " 'local',\n",
       " 'medical',\n",
       " 'uncontrolled',\n",
       " 'unlikely',\n",
       " 'limited',\n",
       " 'awake',\n",
       " 'close',\n",
       " 'excessive',\n",
       " 'obstructive',\n",
       " 'persistent',\n",
       " 'cardiac',\n",
       " 'constipated',\n",
       " 'direct',\n",
       " 'extreme',\n",
       " 'overactive',\n",
       " 'protective',\n",
       " 'psychiatric']"
      ]
     },
     "execution_count": 36,
     "metadata": {},
     "output_type": "execute_result"
    }
   ],
   "source": [
    "med_adj"
   ]
  },
  {
   "cell_type": "markdown",
   "metadata": {},
   "source": [
    "# Experiments\n",
    "### Small Experiment A: Meds info"
   ]
  },
  {
   "cell_type": "code",
   "execution_count": 65,
   "metadata": {},
   "outputs": [
    {
     "name": "stdout",
     "output_type": "stream",
     "text": [
      "panic prescribes it persists\n",
      "medical possibility kidney belongs close\n",
      "you work acts\n",
      "Remember that your doctor has prescribed this medication because he or she has judged that the benefit to you is greater than the risk of side effects.\n"
     ]
    }
   ],
   "source": [
    "import tracery\n",
    "from tracery.modifiers import base_english\n",
    "\n",
    "rmb = \"Remember that your doctor has prescribed this medication because he or she has judged that the benefit to you is greater than the risk of side effects.\"\n",
    "\n",
    "rules = {\n",
    "    \"origin\": '#line#\\n#line2#\\n#line3#',\n",
    "    \"line\": '#noun# #verb# #pronoun# #verb#',\n",
    "    \"line2\": '#adj# #noun# #noun# #verb# #adj#',\n",
    "    \"line3\": '#pronoun# #noun# #verb#',\n",
    "    \"noun\": med_nouns,\n",
    "    \"pronoun\": med_pronouns,\n",
    "    \"verb\": med_verb,\n",
    "    \"adj\": med_adj\n",
    "}\n",
    "\n",
    "grammar = tracery.Grammar(rules)\n",
    "grammar.add_modifiers(base_english)\n",
    "print(grammar.flatten('#origin#'))\n",
    "print(rmb)\n"
   ]
  },
  {
   "cell_type": "markdown",
   "metadata": {},
   "source": [
    "### Small Experiment B: Take Meds"
   ]
  },
  {
   "cell_type": "code",
   "execution_count": 38,
   "metadata": {},
   "outputs": [],
   "source": [
    "P_take = (open(\"./Prazosin.txt\").read()).find(\"take\")"
   ]
  },
  {
   "cell_type": "code",
   "execution_count": 39,
   "metadata": {},
   "outputs": [
    {
     "data": {
      "text/plain": [
       "539"
      ]
     },
     "execution_count": 39,
     "metadata": {},
     "output_type": "execute_result"
    }
   ],
   "source": [
    "P_take"
   ]
  },
  {
   "cell_type": "code",
   "execution_count": 40,
   "metadata": {},
   "outputs": [],
   "source": [
    "P_taking = (open(\"./Prazosin.txt\").read()).find(\"taking\")"
   ]
  },
  {
   "cell_type": "code",
   "execution_count": 41,
   "metadata": {},
   "outputs": [
    {
     "data": {
      "text/plain": [
       "1254"
      ]
     },
     "execution_count": 41,
     "metadata": {},
     "output_type": "execute_result"
    }
   ],
   "source": [
    "P_taking"
   ]
  },
  {
   "cell_type": "code",
   "execution_count": 42,
   "metadata": {},
   "outputs": [
    {
     "data": {
      "text/plain": [
       "['Prazosin - Oral (PRAZ-oh-sin)',\n",
       " 'COMMON BRAND NAME(S): Minipress',\n",
       " 'USES: Prazosin is used with or without other medications to treat high blood pressure. Lowering high blood pressure helps prevent strokes, heart attacks, and kidney problems.',\n",
       " 'Prazosin belongs to a class of medications called alpha blockers. It works by relaxing and widening blood vessels so blood can flow more easily.',\n",
       " 'HOW TO USE: Take this medication by mouth with or without food, usually two or three times daily or as directed by your doctor. If stomach upset occurs, take with food or milk. The dosage is based on your age, medical condition and response to therapy.',\n",
       " 'Prazosin can occasionally cause sudden fainting after the first dose and anytime that your dose is increased. To reduce your risk of fainting, the first dose prescribed by your doctor will be the smallest dose available. You should take this first dose as you are going to bed. This will decrease the possibility of fainting. Your dose may be gradually increased. Take your first new dose at bedtime when your dose is increased unless directed otherwise by your doctor.',\n",
       " 'Use this medication regularly in order to get the most benefit from it. To help you remember, take it at the same time(s) each day. If you are taking this medication for high blood pressure, it is important to continue taking it even if you feel well. Most people with high blood pressure do not feel sick. It may take up to several weeks before the full benefit of this drug takes effect.',\n",
       " 'Do not stop taking this medication without first consulting your doctor. Some conditions may become worse when the drug is abruptly stopped. Your dose may need to be gradually decreased.',\n",
       " 'Tell your doctor if your condition worsens (such as your routine blood pressure readings increase).',\n",
       " 'SIDE EFFECTS: Headache, drowsiness, tiredness, weakness, blurred vision, nausea, vomiting, diarrhea, or constipation may occur as your body adjusts to the medication. If any of these effects persist or worsen, tell your doctor or pharmacist promptly.',\n",
       " 'Lightheadedness or dizziness upon standing may also occur, especially after the first dose and shortly after taking a dose of the drug during the first week of treatment. To reduce the risk of dizziness and fainting, get up slowly when rising from a seated or lying position. If dizziness occurs, sit or lie down right away. Your dose may need to be adjusted.',\n",
       " 'Remember that your doctor has prescribed this medication because he or she has judged that the benefit to you is greater than the risk of side effects. Many people using this medication do not have serious side effects.',\n",
       " 'Tell your doctor right away if any of these unlikely but serious side effects occur: pounding heartbeat, fainting, frequent urination, mental/mood changes (such as depression), swelling of the feet/ankles.',\n",
       " 'For males, in the very unlikely event you have a painful, prolonged erection (lasting more than 4 hours), stop using this drug and seek immediate medical attention, or permanent problems could occur.',\n",
       " 'A very serious allergic reaction to this drug is rare. However, seek immediate medical attention if you notice any symptoms of a serious allergic reaction, including: rash, itching/swelling (especially of the face/tongue/throat), severe dizziness, trouble breathing.',\n",
       " 'This is not a complete list of possible side effects. If you notice other effects not listed above, contact your doctor or pharmacist.',\n",
       " 'In the US -',\n",
       " 'Call your doctor for medical advice about side effects. You may report side effects to FDA at 1-800-FDA-1088 or at www.fda.gov/medwatch.',\n",
       " 'In Canada - Call your doctor for medical advice about side effects. You may report side effects to Health Canada at 1-866-234-2345.',\n",
       " 'PRECAUTIONS: Before taking prazosin, tell your doctor or pharmacist if you are allergic to it; or to other alpha blockers (such as doxazosin, terazosin); or if you have any other allergies. This product may contain inactive ingredients, which can cause allergic reactions or other problems. Talk to your pharmacist for more details.',\n",
       " 'Before using this medication, tell your doctor or pharmacist your medical history, especially of: heart problems (such as low blood pressure), kidney disease, uncontrolled attacks of deep sleep (narcolepsy), prostate cancer, certain eye problems (cataracts, glaucoma).',\n",
       " 'This drug may make you dizzy or drowsy or blur your vision. Alcohol or marijuana can make you more dizzy or drowsy. Do not drive, use machinery, or do anything that needs alertness or clear vision until you can do it safely. Do not drive or participate in hazardous activities for 24 hours after your first dose, any increase in your dosage, or restarting treatment. If your doctor prescribes any additional blood pressure drugs, avoid driving and hazardous activities for 24 hours after your first dose of the new medication. Limit alcoholic beverages. Talk to your doctor if you are using marijuana.',\n",
       " 'To reduce the risk of dizziness and fainting, be careful when standing for long periods. Avoid getting overheated during exercise and hot weather. When first starting this drug, avoid situations where you may be injured if you faint.',\n",
       " 'Before having surgery (including cataract/glaucoma eye surgery), tell your doctor or dentist if you are taking or have ever taken this medication, and about all the other products you use (including prescription drugs, nonprescription drugs, and herbal products).',\n",
       " 'Older adults may be more sensitive to the side effects of this drug, especially dizziness and fainting. These side effects can increase the risk of falling.',\n",
       " 'During pregnancy, this medication should be used only when clearly needed. Discuss the risks and benefits with your doctor.',\n",
       " 'Prazosin passes into breast milk. Consult your doctor before breast-feeding.',\n",
       " \"DRUG INTERACTIONS: Drug interactions may change how your medications work or increase your risk for serious side effects. This document does not contain all possible drug interactions. Keep a list of all the products you use (including prescription/nonprescription drugs and herbal products) and share it with your doctor and pharmacist. Do not start, stop, or change the dosage of any medicines without your doctor's approval.\",\n",
       " 'Some products that may interact with this drug include: other alpha blocker drugs (such as doxazosin, terazosin), beta blockers (such as atenolol, metoprolol, propranolol), drugs to treat erectile dysfunction-ED or pulmonary hypertension (such as sildenafil, tadalafil).',\n",
       " 'Tell your doctor or pharmacist if you are taking other products that cause drowsiness such as opioid pain or cough relievers (such as codeine, hydrocodone), alcohol, marijuana, drugs for sleep or anxiety (such as alprazolam, lorazepam, zolpidem), muscle relaxants (such as carisoprodol, cyclobenzaprine), or antihistamines (such as cetirizine, diphenhydramine).',\n",
       " 'Check the labels on all your medicines (such as allergy or cough-and-cold products) because they may contain ingredients that cause drowsiness. Ask your pharmacist about using those products safely.',\n",
       " 'Some products have ingredients that could raise your heart rate or blood pressure. Tell your pharmacist what products you are using, and ask how to use them safely (especially cough-and-cold products, diet aids, or NSAIDs such as ibuprofen/naproxen).',\n",
       " 'This medication may interfere with certain laboratory tests (including pheochromocytoma screening test), possibly causing false test results. Make sure laboratory personnel and all your doctors know you use this drug.',\n",
       " 'OVERDOES: If someone has overdosed and has serious symptoms such as passing out or trouble breathing, call 911. Otherwise, call a poison control center right away. US residents can call their local poison control center at 1-800-222-1222. Canada residents can call a provincial poison control center. Symptoms of overdose may include: severe drowsiness, slow reactions.',\n",
       " 'NOTES: Do not share this medication with others.',\n",
       " 'Lifestyle changes such as stress reduction programs, exercise, and dietary changes may increase the effectiveness of this medicine. Talk to your doctor or pharmacist about lifestyle changes that might benefit you.',\n",
       " 'Have your blood pressure and heart rate checked regularly while taking this medication. Learn how to monitor your own blood pressure, and share the results with your doctor.',\n",
       " 'MISSED DOSE: If you miss a dose, take it as soon as you remember. If it is near the time of the next dose, skip the missed dose. Take your next dose at the regular time. Do not double the dose to catch up.',\n",
       " 'STORAGE: Store at room temperature away from light and moisture. Refer to storage information printed on the bottle for the exact temperature range. If you have any questions about storage, ask your pharmacist. Do not store in the bathroom. Keep all medicines away from children and pets.',\n",
       " 'Do not flush medications down the toilet or pour them into a drain unless instructed to do so. Properly discard this product when it is expired or no longer needed. Consult your pharmacist or local waste disposal company for more details about how to safely discard your product.',\n",
       " 'Information last revised October 2018.',\n",
       " 'Copyright(c) 2018 First Databank, Inc.']"
      ]
     },
     "execution_count": 42,
     "metadata": {},
     "output_type": "execute_result"
    }
   ],
   "source": [
    "P_phrases = open(\"./Prazosin.txt\").read().split(\"\\n\")\n",
    "P_phrases = list(filter(None, P_phrases))\n",
    "\n",
    "P_phrases"
   ]
  },
  {
   "cell_type": "code",
   "execution_count": 43,
   "metadata": {},
   "outputs": [],
   "source": [
    "new_phrases = \"\"\n",
    "for p in P_phrases:\n",
    "    new_phrases=new_phrases + p + \". \"\n",
    "    \n",
    "P_phrases = new_phrases.split(\". \")"
   ]
  },
  {
   "cell_type": "code",
   "execution_count": 44,
   "metadata": {},
   "outputs": [
    {
     "data": {
      "text/plain": [
       "['Prazosin - Oral (PRAZ-oh-sin)',\n",
       " 'COMMON BRAND NAME(S): Minipress',\n",
       " 'USES: Prazosin is used with or without other medications to treat high blood pressure',\n",
       " 'Lowering high blood pressure helps prevent strokes, heart attacks, and kidney problems.',\n",
       " 'Prazosin belongs to a class of medications called alpha blockers',\n",
       " 'It works by relaxing and widening blood vessels so blood can flow more easily.',\n",
       " 'HOW TO USE: Take this medication by mouth with or without food, usually two or three times daily or as directed by your doctor',\n",
       " 'If stomach upset occurs, take with food or milk',\n",
       " 'The dosage is based on your age, medical condition and response to therapy.',\n",
       " 'Prazosin can occasionally cause sudden fainting after the first dose and anytime that your dose is increased',\n",
       " 'To reduce your risk of fainting, the first dose prescribed by your doctor will be the smallest dose available',\n",
       " 'You should take this first dose as you are going to bed',\n",
       " 'This will decrease the possibility of fainting',\n",
       " 'Your dose may be gradually increased',\n",
       " 'Take your first new dose at bedtime when your dose is increased unless directed otherwise by your doctor.',\n",
       " 'Use this medication regularly in order to get the most benefit from it',\n",
       " 'To help you remember, take it at the same time(s) each day',\n",
       " 'If you are taking this medication for high blood pressure, it is important to continue taking it even if you feel well',\n",
       " 'Most people with high blood pressure do not feel sick',\n",
       " 'It may take up to several weeks before the full benefit of this drug takes effect.',\n",
       " 'Do not stop taking this medication without first consulting your doctor',\n",
       " 'Some conditions may become worse when the drug is abruptly stopped',\n",
       " 'Your dose may need to be gradually decreased.',\n",
       " 'Tell your doctor if your condition worsens (such as your routine blood pressure readings increase).',\n",
       " 'SIDE EFFECTS: Headache, drowsiness, tiredness, weakness, blurred vision, nausea, vomiting, diarrhea, or constipation may occur as your body adjusts to the medication',\n",
       " 'If any of these effects persist or worsen, tell your doctor or pharmacist promptly.',\n",
       " 'Lightheadedness or dizziness upon standing may also occur, especially after the first dose and shortly after taking a dose of the drug during the first week of treatment',\n",
       " 'To reduce the risk of dizziness and fainting, get up slowly when rising from a seated or lying position',\n",
       " 'If dizziness occurs, sit or lie down right away',\n",
       " 'Your dose may need to be adjusted.',\n",
       " 'Remember that your doctor has prescribed this medication because he or she has judged that the benefit to you is greater than the risk of side effects',\n",
       " 'Many people using this medication do not have serious side effects.',\n",
       " 'Tell your doctor right away if any of these unlikely but serious side effects occur: pounding heartbeat, fainting, frequent urination, mental/mood changes (such as depression), swelling of the feet/ankles.',\n",
       " 'For males, in the very unlikely event you have a painful, prolonged erection (lasting more than 4 hours), stop using this drug and seek immediate medical attention, or permanent problems could occur.',\n",
       " 'A very serious allergic reaction to this drug is rare',\n",
       " 'However, seek immediate medical attention if you notice any symptoms of a serious allergic reaction, including: rash, itching/swelling (especially of the face/tongue/throat), severe dizziness, trouble breathing.',\n",
       " 'This is not a complete list of possible side effects',\n",
       " 'If you notice other effects not listed above, contact your doctor or pharmacist.',\n",
       " 'In the US -',\n",
       " 'Call your doctor for medical advice about side effects',\n",
       " 'You may report side effects to FDA at 1-800-FDA-1088 or at www.fda.gov/medwatch.',\n",
       " 'In Canada - Call your doctor for medical advice about side effects',\n",
       " 'You may report side effects to Health Canada at 1-866-234-2345.',\n",
       " 'PRECAUTIONS: Before taking prazosin, tell your doctor or pharmacist if you are allergic to it; or to other alpha blockers (such as doxazosin, terazosin); or if you have any other allergies',\n",
       " 'This product may contain inactive ingredients, which can cause allergic reactions or other problems',\n",
       " 'Talk to your pharmacist for more details.',\n",
       " 'Before using this medication, tell your doctor or pharmacist your medical history, especially of: heart problems (such as low blood pressure), kidney disease, uncontrolled attacks of deep sleep (narcolepsy), prostate cancer, certain eye problems (cataracts, glaucoma).',\n",
       " 'This drug may make you dizzy or drowsy or blur your vision',\n",
       " 'Alcohol or marijuana can make you more dizzy or drowsy',\n",
       " 'Do not drive, use machinery, or do anything that needs alertness or clear vision until you can do it safely',\n",
       " 'Do not drive or participate in hazardous activities for 24 hours after your first dose, any increase in your dosage, or restarting treatment',\n",
       " 'If your doctor prescribes any additional blood pressure drugs, avoid driving and hazardous activities for 24 hours after your first dose of the new medication',\n",
       " 'Limit alcoholic beverages',\n",
       " 'Talk to your doctor if you are using marijuana.',\n",
       " 'To reduce the risk of dizziness and fainting, be careful when standing for long periods',\n",
       " 'Avoid getting overheated during exercise and hot weather',\n",
       " 'When first starting this drug, avoid situations where you may be injured if you faint.',\n",
       " 'Before having surgery (including cataract/glaucoma eye surgery), tell your doctor or dentist if you are taking or have ever taken this medication, and about all the other products you use (including prescription drugs, nonprescription drugs, and herbal products).',\n",
       " 'Older adults may be more sensitive to the side effects of this drug, especially dizziness and fainting',\n",
       " 'These side effects can increase the risk of falling.',\n",
       " 'During pregnancy, this medication should be used only when clearly needed',\n",
       " 'Discuss the risks and benefits with your doctor.',\n",
       " 'Prazosin passes into breast milk',\n",
       " 'Consult your doctor before breast-feeding.',\n",
       " 'DRUG INTERACTIONS: Drug interactions may change how your medications work or increase your risk for serious side effects',\n",
       " 'This document does not contain all possible drug interactions',\n",
       " 'Keep a list of all the products you use (including prescription/nonprescription drugs and herbal products) and share it with your doctor and pharmacist',\n",
       " \"Do not start, stop, or change the dosage of any medicines without your doctor's approval.\",\n",
       " 'Some products that may interact with this drug include: other alpha blocker drugs (such as doxazosin, terazosin), beta blockers (such as atenolol, metoprolol, propranolol), drugs to treat erectile dysfunction-ED or pulmonary hypertension (such as sildenafil, tadalafil).',\n",
       " 'Tell your doctor or pharmacist if you are taking other products that cause drowsiness such as opioid pain or cough relievers (such as codeine, hydrocodone), alcohol, marijuana, drugs for sleep or anxiety (such as alprazolam, lorazepam, zolpidem), muscle relaxants (such as carisoprodol, cyclobenzaprine), or antihistamines (such as cetirizine, diphenhydramine).',\n",
       " 'Check the labels on all your medicines (such as allergy or cough-and-cold products) because they may contain ingredients that cause drowsiness',\n",
       " 'Ask your pharmacist about using those products safely.',\n",
       " 'Some products have ingredients that could raise your heart rate or blood pressure',\n",
       " 'Tell your pharmacist what products you are using, and ask how to use them safely (especially cough-and-cold products, diet aids, or NSAIDs such as ibuprofen/naproxen).',\n",
       " 'This medication may interfere with certain laboratory tests (including pheochromocytoma screening test), possibly causing false test results',\n",
       " 'Make sure laboratory personnel and all your doctors know you use this drug.',\n",
       " 'OVERDOES: If someone has overdosed and has serious symptoms such as passing out or trouble breathing, call 911',\n",
       " 'Otherwise, call a poison control center right away',\n",
       " 'US residents can call their local poison control center at 1-800-222-1222',\n",
       " 'Canada residents can call a provincial poison control center',\n",
       " 'Symptoms of overdose may include: severe drowsiness, slow reactions.',\n",
       " 'NOTES: Do not share this medication with others.',\n",
       " 'Lifestyle changes such as stress reduction programs, exercise, and dietary changes may increase the effectiveness of this medicine',\n",
       " 'Talk to your doctor or pharmacist about lifestyle changes that might benefit you.',\n",
       " 'Have your blood pressure and heart rate checked regularly while taking this medication',\n",
       " 'Learn how to monitor your own blood pressure, and share the results with your doctor.',\n",
       " 'MISSED DOSE: If you miss a dose, take it as soon as you remember',\n",
       " 'If it is near the time of the next dose, skip the missed dose',\n",
       " 'Take your next dose at the regular time',\n",
       " 'Do not double the dose to catch up.',\n",
       " 'STORAGE: Store at room temperature away from light and moisture',\n",
       " 'Refer to storage information printed on the bottle for the exact temperature range',\n",
       " 'If you have any questions about storage, ask your pharmacist',\n",
       " 'Do not store in the bathroom',\n",
       " 'Keep all medicines away from children and pets.',\n",
       " 'Do not flush medications down the toilet or pour them into a drain unless instructed to do so',\n",
       " 'Properly discard this product when it is expired or no longer needed',\n",
       " 'Consult your pharmacist or local waste disposal company for more details about how to safely discard your product.',\n",
       " 'Information last revised October 2018.',\n",
       " 'Copyright(c) 2018 First Databank, Inc.',\n",
       " '']"
      ]
     },
     "execution_count": 44,
     "metadata": {},
     "output_type": "execute_result"
    }
   ],
   "source": [
    "P_phrases"
   ]
  },
  {
   "cell_type": "markdown",
   "metadata": {},
   "source": [
    "### Get all the lines with \"Take\""
   ]
  },
  {
   "cell_type": "code",
   "execution_count": 245,
   "metadata": {
    "scrolled": true
   },
   "outputs": [
    {
     "name": "stdout",
     "output_type": "stream",
     "text": [
      "[' this medication by mouth with or without food, usually two or three times daily or as directed by your doctor', ' with food or milk', ' this first dose as you are going to bed', ' your first new dose at bedtime when your dose is increased unless directed otherwise by your doctor.', ' it at the same time(s) each day', ' up to several weeks before the full benefit of this drug takes effect.', ' it as soon as you remember', ' your next dose at the regular time']\n"
     ]
    }
   ],
   "source": [
    "import re\n",
    "\n",
    "magiclist = []\n",
    "\n",
    "for line in P_phrases: \n",
    "    if re.search(r'[Tt]ake ', line):\n",
    "#         print(line[find_str(line, 'ake')+3:])\n",
    "        magiclist.append(line[find_str(line, 'ake')+3:])\n",
    "       \n",
    "print(magiclist)\n",
    "def find_str(s, char):\n",
    "    index = 0\n",
    "\n",
    "    if char in s:\n",
    "        c = char[0]\n",
    "        for ch in s:\n",
    "            if ch == c:\n",
    "                if s[index:index+len(char)] == char:\n",
    "                    return index\n",
    "\n",
    "            index += 1\n",
    "\n",
    "    return -1"
   ]
  },
  {
   "cell_type": "code",
   "execution_count": 46,
   "metadata": {},
   "outputs": [],
   "source": [
    "take_list = [\"Take this medication by mouth with or without food, usually two or three times daily or as directed by your doctor\", \"Take with food or milk\", \"Take this first dose as you are going to bed\", \"Take your first new dose at bedtime when your dose is increased unless directed otherwise by your doctor.\", \"Take it at the same time(s) each day\", \n",
    "       \"Take up to several weeks before the full benefit of this drug takes effect.\", \"Take it as soon as you remember\", \"Take your next dose at the regular time\"]"
   ]
  },
  {
   "cell_type": "code",
   "execution_count": 47,
   "metadata": {},
   "outputs": [],
   "source": [
    "pill_name = [\"(PRAZ-oh-sin)\", \"(the-MAZ-eh-pam)\", \"(dox-EH-pin)\"]"
   ]
  },
  {
   "cell_type": "code",
   "execution_count": 52,
   "metadata": {},
   "outputs": [],
   "source": [
    "import random"
   ]
  },
  {
   "cell_type": "code",
   "execution_count": 53,
   "metadata": {},
   "outputs": [
    {
     "data": {
      "text/plain": [
       "'(the-MAZ-eh-pam)'"
      ]
     },
     "execution_count": 53,
     "metadata": {},
     "output_type": "execute_result"
    }
   ],
   "source": [
    "random.choice(pill_name)"
   ]
  },
  {
   "cell_type": "code",
   "execution_count": 54,
   "metadata": {},
   "outputs": [
    {
     "data": {
      "text/plain": [
       "'Take your next dose at the regular time'"
      ]
     },
     "execution_count": 54,
     "metadata": {},
     "output_type": "execute_result"
    }
   ],
   "source": [
    "random.choice(take_list)"
   ]
  },
  {
   "cell_type": "markdown",
   "metadata": {},
   "source": [
    "#### import survey response"
   ]
  },
  {
   "cell_type": "code",
   "execution_count": 55,
   "metadata": {},
   "outputs": [],
   "source": [
    "survey = open(\"./awake.txt\").read().split(\"\\n\")"
   ]
  },
  {
   "cell_type": "code",
   "execution_count": 56,
   "metadata": {},
   "outputs": [
    {
     "data": {
      "text/plain": [
       "['I’m terrified that I’m investing in the wrong people...again.',\n",
       " 'Heartbreak.',\n",
       " 'I don’t sleep well in general and I often wake up early in the morning before dawn and can’t get back to sleep again. ',\n",
       " 'A number of factors contribute to this, though, which I can’t point my finger to specifically, from back pain which has been troubling me for years now, to some obsessive thoughts about the past.',\n",
       " 'I guess psychologically I haven’t really put down a lot of things that happened before, and people I once loved and hurt. ',\n",
       " 'They keep coming back to me, sometimes waking me up as they appear in my dreams. At other times it would be the real life pressures — the preparation of the wedding, the renewal of contract, the buying of the new flats, you know, all these combined together make me very tensed and alert.',\n",
       " 'Fears of failure',\n",
       " 'Re-playing the conversations of the day and wondering why I said the things I said when I did and why I’m not more clever',\n",
       " 'Anxiety about the future',\n",
       " 'Anxiety about the present',\n",
       " 'Anxiety about the past ',\n",
       " 'Unchecked boxes on mental to-do lists',\n",
       " 'Other peoples’ opinions of me and emotions toward me ',\n",
       " 'Anxieties about family ',\n",
       " 'Misremembered music lyrics ',\n",
       " 'Anxiety about anxiety — am I neurotic?',\n",
       " 'Visceral chest pains from unrequited love ',\n",
       " 'Maybe I’ve been wasting my time, all this time',\n",
       " 'It’s hard to justify what you can do',\n",
       " 'Am I annoying? Do other people think poorly of me? ',\n",
       " 'Am I not creative enough? Am I condescending? Am I too judgmental? Am I mean? Am I too dismissive? ',\n",
       " 'Why do I feel so strongly? ',\n",
       " 'Does everyone feel emotions as strongly as I do?',\n",
       " 'Why can’t I compartmentalize my life? How do other people do that? What’s wrong with me?!',\n",
       " 'Am I too self-centered? Why am I so concerned about me all the time?',\n",
       " 'Everything is fine. Things will be fine tomorrow. ',\n",
       " 'Oh god there is so much I have to do tomorrow. ',\n",
       " 'Did I buy toothpaste?',\n",
       " 'Not wanting to wake up the next morning.',\n",
       " 'It depends. Sometimes it could be just my relaxing mood. For example I don’t have to work/go to school tomorrow so I can stay up as late as I like.',\n",
       " 'Sometimes it could be my work. Like I am not satisfied with my work or I am thinking of how to develop my work better, then I can’t stop thinking. Sometimes it’s just my phone. Damn it.',\n",
       " 'sexytimes or work. I never have insomnia.',\n",
       " 'Am I doing enough with my life? ',\n",
       " 'Anxiety, unemployment, financial matters, self awareness, reflection, excitement about the days transgressions.',\n",
       " 'Cats.',\n",
       " 'i rerun what has happened that day a and plan for the next day. i sometimes imagine the possibilities with some guys lol.',\n",
       " 'the boys from AD. Thinking about the relationships in my life and the decisions I have to make. thinking about the choices I make. thinking about what i need to pack or bring on a trip.',\n",
       " 'The boy I like and wondering what he thinks about me',\n",
       " 'I try to count sheep, but the more sheep that walk by, the bigger the pasture needs to be. Then I keep having to make the pasture bigger, and it becomes more stressful than relaxing.',\n",
       " 'Overthinking — about the good, the bad, the exciting...everything!',\n",
       " 'Missing my boyfriend.',\n",
       " 'My family’s safety.',\n",
       " 'dreams.',\n",
       " 'The weird shapes/shadows that different things in my room turn into once the lights are off (i know they’re not monsters or anything but sometimes they look like people or cats or sting rays).',\n",
       " 'I worry about every stupid little thing that is going to happen the next day.',\n",
       " 'Planning out what I have to do the next day, but generally I’m so exhuasted I fall asleep quickly most nights.',\n",
       " 'When I’m about to travel the next morning I can never sleep because I’m so excited. Other than that, doing art of course. And when I have the time to read, I can stay up really late getting into a good book.',\n",
       " 'Thinking. Thinking about the possibility of things and how would things go on. About how fucked up life was. Thinking about everything.',\n",
       " 'loneliness. stress of classes and work. making my family proud. not doing enough. infinite blitzes.',\n",
       " 'Worries of the future.',\n",
       " 'To think about what happened during the day',\n",
       " 'Hormones. Excess cortisol in my blood. ',\n",
       " 'My man snoring! Jobs that I forgot to do during daytime.. Tomorrow.. going to sleep with an empty tummy... uncertainties in life!',\n",
       " 'worries of the day.',\n",
       " 'worrying about my brothers and parents. drugs.',\n",
       " 'The absurdity of existence.',\n",
       " 'Work, stress about the future (generally speaking), girl problems.',\n",
       " 'Thoughts about how I can do what I do better.',\n",
       " 'Worried about my studies.',\n",
       " 'Nothing, I sleep very well.',\n",
       " 'Interacting with people. Just thinking about it is terrifying. ',\n",
       " 'My lack of motivation.',\n",
       " 'Bulgaria. my relationships with people. my future work. my family. the purpose of life. ',\n",
       " 'Coffee. Stress. Question unanswered. Uncertainties.',\n",
       " 'Thinking about all the things that I have to do the following day. (Especially if it’s a Saturday night.) Also, recently I have been unable to fall asleep unless I am listening to music. Which is probably slightly worrisome, but whatever.',\n",
       " 'hmm i think some weird sound e.g.  someone moving the furniture or keep walking back and forth upstairs or in the rm next to mine will definitely keep me awake at night coz i think it’s really creepy to hear that late at night and I won’t be able to sleep if i hear those sounds before i sleep.',\n",
       " 'anxiety. sometimes too many thoughts/worries in my head.',\n",
       " 'essays. overdose of caffeine or leamon tea. super filling dinner. insects in the room. mosquitoes beside my ear. not hugging my soft toy tigger. raindrops dripping on the aircon. m pain. the tale of man wolf at full moon. ',\n",
       " 'Telling my life story. ',\n",
       " 'caffiene (boring answer). sex (naughty answer). excitement eg before a trip (undefinable answer). some cool inspiration that keeps my brain running and running. ',\n",
       " 'The sound of clanging pipes echoing in the dark.',\n",
       " 'thinking about someone or something I miss. feeling hungry, feeling too full,',\n",
       " \"thinking about what I've said or done that may have hurt someone.\"]"
      ]
     },
     "execution_count": 56,
     "metadata": {},
     "output_type": "execute_result"
    }
   ],
   "source": [
    "survey = list(filter(None, survey))\n",
    "survey"
   ]
  },
  {
   "cell_type": "markdown",
   "metadata": {},
   "source": [
    "### import side effects"
   ]
  },
  {
   "cell_type": "code",
   "execution_count": 57,
   "metadata": {},
   "outputs": [],
   "source": [
    "side_effects = open(\"./sideEffects.txt\").read().split(\", \")"
   ]
  },
  {
   "cell_type": "code",
   "execution_count": 58,
   "metadata": {},
   "outputs": [
    {
     "data": {
      "text/plain": [
       "['Drowsiness',\n",
       " 'dizziness',\n",
       " 'dry mouth',\n",
       " 'blurred vision',\n",
       " 'constipation',\n",
       " 'or trouble urinating',\n",
       " 'Headache',\n",
       " 'drowsiness',\n",
       " 'tiredness',\n",
       " 'weakness',\n",
       " 'blurred vision',\n",
       " 'nausea',\n",
       " 'vomiting',\n",
       " 'diarrhea',\n",
       " 'constipation',\n",
       " 'addiction',\n",
       " 'memory loss',\n",
       " 'mental/mood/behavior changes',\n",
       " 'hallucinations',\n",
       " 'confusion',\n",
       " 'agitation',\n",
       " 'aggressive behavior',\n",
       " 'anxiety',\n",
       " 'Dizziness',\n",
       " 'difficulty with coordination',\n",
       " 'daytime drowsiness']"
      ]
     },
     "execution_count": 58,
     "metadata": {},
     "output_type": "execute_result"
    }
   ],
   "source": [
    "side_effects"
   ]
  },
  {
   "cell_type": "markdown",
   "metadata": {},
   "source": [
    "## Test Result 1"
   ]
  },
  {
   "cell_type": "code",
   "execution_count": 63,
   "metadata": {},
   "outputs": [],
   "source": [
    "import tracery\n",
    "from tracery.modifiers import base_english\n",
    "import random"
   ]
  },
  {
   "cell_type": "code",
   "execution_count": 68,
   "metadata": {},
   "outputs": [
    {
     "name": "stdout",
     "output_type": "stream",
     "text": [
      "(the-MAZ-eh-pam)\n",
      "\n",
      "Take a alcohol\n",
      "Take two anythings\n",
      "Take it as soon as you remember. \n",
      "discuss think cough doctor how local\n",
      "you takes it continues\n",
      "Anxiety about the future\n",
      "\n",
      "Take a drink\n",
      "Take two pharmacists\n",
      "Causes memory loss Causes memory loss\n",
      "Remember that your doctor has prescribed this medication because he or she has judged that the benefit to you is greater than the risk of side effects.\n",
      "\n"
     ]
    }
   ],
   "source": [
    "rmb = \"Remember that your doctor has prescribed this medication because he or she has judged that the benefit to you is greater than the risk of side effects.\"\n",
    "take_instruct = random.choice(take_list) + \". \"\n",
    "pill = random.choice(pill_name) + \"\\n\"\n",
    "awake = random.choice(survey) + \"\\n\"\n",
    "effect = \"Causes \" + random.choice(side_effects)\n",
    "\n",
    "rules = {\n",
    "    \"origin\": '#line1A#\\n#line1B#\\n#line1C#\\n#line2A#\\n#line2B#\\n#line3#\\n#line1A#\\n#line1B#\\n#effects# #effects#',\n",
    "    \"line1A\": 'Take a #noun#',\n",
    "    \"line1B\": 'Take two #noun#s',\n",
    "    \"line1C\": take_instruct,\n",
    "    \"line2A\": '#noun# #noun# #noun# #noun# how #adj#',\n",
    "    \"line2B\": '#pronoun# #verb# #pronoun# #verb#',\n",
    "    \"line3\": awake,\n",
    "    \"noun\": med_nouns,\n",
    "    \"pronoun\": med_pronouns,\n",
    "    \"verb\": med_verb,\n",
    "    \"adj\": med_adj,\n",
    "    \"effects\": effect\n",
    "}\n",
    "\n",
    "grammar = tracery.Grammar(rules)\n",
    "grammar.add_modifiers(base_english)\n",
    "\n",
    "print(pill)\n",
    "\n",
    "print(grammar.flatten('#origin#'))\n",
    "print(rmb + \"\\n\")"
   ]
  },
  {
   "cell_type": "markdown",
   "metadata": {},
   "source": [
    "## Test Result 2"
   ]
  },
  {
   "cell_type": "code",
   "execution_count": 67,
   "metadata": {},
   "outputs": [],
   "source": [
    "import pronouncing as pr"
   ]
  },
  {
   "cell_type": "code",
   "execution_count": 75,
   "metadata": {},
   "outputs": [],
   "source": [
    "phoneItems = \" \".join(str(item) for item in phoneList)"
   ]
  },
  {
   "cell_type": "code",
   "execution_count": 77,
   "metadata": {},
   "outputs": [
    {
     "data": {
      "text/plain": [
       "\"activities additional antihistamines children clear clearly condition conditions continue dizziness dizzy get getting if in increase increased injured interfere into is it kidney list listed miss missed near nonprescription participate persist possibility prescription printed provincial risk risks serious severe sit skip symptoms this until vision when which will with anxiety anything belongs causing consulting driving during fainting going having long longer lying passing pounding prolonged readings relaxing restarting rising screening standing starting swelling taking using widening alcoholic allergic ask attacks because become blocker blockers call called can careful catch cause checked class company complete constipation contact contain control cough could decrease directed discard doctor doctor's doctors document effectiveness effects erection exact exercise expired frequent inactive instructed interact interactions local make medical medication medications next occasionally occur prescribed prescribes product products questions reaction reactions reduction seek stomach take taken takes uncontrolled unlikely week weeks work works addiction been continues difficulty driven history limited liver milk periods persists sitting think avoiding breathing calming childbearing including nursing planning sleeping waking working acts alcohol awake caffeine cannot chronic close coordination effect exactly excessive include makes obstructive sex talk vehicles wake drink experience inhibitors persistent rhythm skin within affecting among bleeding clothing feelings following seeing selecting stopping tanning urinating worsening younger affect affects antibiotics candy cardiac check chemicals constipated consult currently decongestants direct discuss extreme glaucoma instructions overactive panic protective psychiatric suck sunscreen\""
      ]
     },
     "execution_count": 77,
     "metadata": {},
     "output_type": "execute_result"
    }
   ],
   "source": [
    "phoneItems"
   ]
  },
  {
   "cell_type": "code",
   "execution_count": 88,
   "metadata": {},
   "outputs": [],
   "source": [
    "#try to find words in rhyming list\n",
    "for word in phoneItems.split():\n",
    "    rhymes = pr.rhymes(word)\n",
    "    thisRhymeInText=[]\n",
    "    for other in phoneItem.split() if (other != word):\n",
    "        if other in rhymes:\n",
    "            thisRhymeInText.append(other)"
   ]
  },
  {
   "cell_type": "code",
   "execution_count": 97,
   "metadata": {},
   "outputs": [
    {
     "data": {
      "text/plain": [
       "['getting',\n",
       " 'anything',\n",
       " 'causing',\n",
       " 'consulting',\n",
       " 'driving',\n",
       " 'during',\n",
       " 'fainting',\n",
       " 'going',\n",
       " 'having',\n",
       " 'lying',\n",
       " 'passing',\n",
       " 'pounding',\n",
       " 'relaxing',\n",
       " 'restarting',\n",
       " 'rising',\n",
       " 'screening',\n",
       " 'standing',\n",
       " 'starting',\n",
       " 'swelling',\n",
       " 'taking',\n",
       " 'using',\n",
       " 'widening',\n",
       " 'sitting',\n",
       " 'avoiding',\n",
       " 'breathing',\n",
       " 'calming',\n",
       " 'childbearing',\n",
       " 'including',\n",
       " 'nursing',\n",
       " 'planning',\n",
       " 'sleeping',\n",
       " 'waking',\n",
       " 'working',\n",
       " 'affecting',\n",
       " 'bleeding',\n",
       " 'clothing',\n",
       " 'following',\n",
       " 'seeing',\n",
       " 'selecting',\n",
       " 'stopping',\n",
       " 'tanning',\n",
       " 'urinating',\n",
       " 'worsening']"
      ]
     },
     "execution_count": 97,
     "metadata": {},
     "output_type": "execute_result"
    }
   ],
   "source": [
    "ing_result = [word for word in phoneItems.split() if word.endswith(\"ing\")]\n",
    "ing_result"
   ]
  },
  {
   "cell_type": "code",
   "execution_count": 218,
   "metadata": {},
   "outputs": [
    {
     "name": "stdout",
     "output_type": "stream",
     "text": [
      "(PRAZ-oh-sin)\n",
      "\n",
      "Take one nursing take two rhythms causes blurred vision\n",
      "Take one control Take half a pounding risks\n",
      "causing think risk anxiety it is having\n",
      "Take with food or milk\n",
      "you acts it is\n",
      "Overthinking — about the good, the bad, the exciting...everything!\n",
      "\n",
      "Take one effectiveness take two livers causes blurred vision\n",
      "Take one clothing Take half a taking sucks\n",
      "Still awake I am still awake calming\n",
      "working affecting swelling anything\n",
      "It is important to continue taking this medication even if you feel well. Do not stop taking this medication without consulting your doctor\n",
      "\n"
     ]
    }
   ],
   "source": [
    "impt = \"It is important to continue taking this medication even if you feel well. Do not stop taking this medication without consulting your doctor\"\n",
    "take_instruct = random.choice(take_list)\n",
    "pill = random.choice(pill_name) + \"\\n\"\n",
    "awake = random.choice(survey) + \"\\n\"\n",
    "effect = \"causes \" + random.choice(side_effects)\n",
    "\n",
    "rules = {\n",
    "    \"origin\": '#line1A# #effects#\\n#line1B#\\n#line2A#\\n#line1C#\\n#line2B#\\n#line3#\\n#line1A# #effects#\\n#line1B#\\n#still_up#\\n#line1D#',\n",
    "    \"line1A\": 'Take one #noun# take two #noun#s',\n",
    "    \"line1B\": 'Take one #noun# Take half a #ing# #noun#s',\n",
    "    \"line1C\": take_instruct,\n",
    "    \"line1D\": \"#ing# #ing# #ing# anything\",\n",
    "    \"line2A\": '#ing# #noun# #noun# #noun# it is #ing#',\n",
    "    \"line2B\": '#pronoun# #verb# #pronoun# #verb#',\n",
    "    \"line3\": awake,\n",
    "    \"noun\": med_nouns,\n",
    "    \"pronoun\": med_pronouns,\n",
    "    \"verb\": med_verb,\n",
    "    \"adj\": med_adj,\n",
    "    \"effects\": effect,\n",
    "    \"still_up\": \"Still awake I am still awake #ing#\",\n",
    "    \"ing\": ing_result\n",
    "}\n",
    "\n",
    "grammar = tracery.Grammar(rules)\n",
    "grammar.add_modifiers(base_english)\n",
    "\n",
    "print(pill)\n",
    "\n",
    "print(grammar.flatten('#origin#'))\n",
    "print(impt + \"\\n\")"
   ]
  },
  {
   "cell_type": "markdown",
   "metadata": {},
   "source": [
    "# !! New Attempt New Structure 2"
   ]
  },
  {
   "cell_type": "code",
   "execution_count": 273,
   "metadata": {},
   "outputs": [
    {
     "data": {
      "text/plain": [
       "['Cats.', 'sexytimes or work. I never have insomnia.']"
      ]
     },
     "execution_count": 273,
     "metadata": {},
     "output_type": "execute_result"
    }
   ],
   "source": [
    "awake = random.sample(survey, 2)\n",
    "awake"
   ]
  },
  {
   "cell_type": "code",
   "execution_count": 281,
   "metadata": {},
   "outputs": [
    {
     "data": {
      "text/plain": [
       "'Am I too self-centered? Why am I so concerned about me all the time? A number of factors contribute to this, though, which I can’t point my finger to specifically, from back pain which has been troubling me for years now, to some obsessive thoughts about the past.'"
      ]
     },
     "execution_count": 281,
     "metadata": {},
     "output_type": "execute_result"
    }
   ],
   "source": [
    "\" \".join(awake)"
   ]
  },
  {
   "cell_type": "markdown",
   "metadata": {},
   "source": [
    "### A) Stanza One (Survey answer + Take x 3)"
   ]
  },
  {
   "cell_type": "code",
   "execution_count": 321,
   "metadata": {},
   "outputs": [
    {
     "name": "stdout",
     "output_type": "stream",
     "text": [
      "1.\n",
      "(PRAZ-oh-sin)\n",
      "\n",
      "Work, stress about the future (generally speaking), girl problems.\n",
      "am i annoying? do other people think poorly of me? \n",
      "\n",
      "Take a rhythm\n",
      "Take two lists\n",
      "Take with food or milk. \n"
     ]
    }
   ],
   "source": [
    "rmb = \"Remember that your doctor has prescribed this medication because he or she has judged that the benefit to you is greater than the risk of side effects.\"\n",
    "take_instruct = random.choice(take_list) + \". \"\n",
    "pill = random.choice(pill_name) + \"\\n\"\n",
    "awake = random.sample(survey, 2)\n",
    "effect = \"Causes \" + random.choice(side_effects)\n",
    "\n",
    "rules = {\n",
    "    \"origin\": '#line1A#\\n#line1B#\\n#line1C#',\n",
    "    \"line1A\": 'Take a #noun#',\n",
    "    \"line1B\": 'Take two #noun#s',\n",
    "    \"line1C\": take_instruct,\n",
    "    \"line2A\": '#noun# #noun# #noun# #noun# how #adj#',\n",
    "    \"line2B\": '#pronoun# #verb# #pronoun# #verb#',\n",
    "    \"line3\": awake,\n",
    "    \"noun\": med_nouns,\n",
    "    \"pronoun\": med_pronouns,\n",
    "    \"verb\": med_verb,\n",
    "    \"adj\": med_adj,\n",
    "    \"effects\": effect\n",
    "}\n",
    "\n",
    "grammar = tracery.Grammar(rules)\n",
    "grammar.add_modifiers(base_english)\n",
    "\n",
    "print(\"1.\\n\" + pill)\n",
    "print(\"\\n\".join(awake).capitalize() + \"\\n\")\n",
    "print(grammar.flatten('#origin#'))"
   ]
  },
  {
   "cell_type": "markdown",
   "metadata": {},
   "source": [
    "## B) Stanza Two (Survey answer + Take + Take-ing + Rmb)"
   ]
  },
  {
   "cell_type": "code",
   "execution_count": 372,
   "metadata": {},
   "outputs": [
    {
     "name": "stdout",
     "output_type": "stream",
     "text": [
      "2.\n",
      "(PRAZ-oh-sin)\n",
      "\n",
      "Am i doing enough with my life? \n",
      "did i buy toothpaste?\n",
      "\n",
      "Take a company\n",
      "Take two blockers\n",
      "Take it at the same time(s) each day. \n",
      "dizziness check exercise anything how extreme\n",
      "it is it is\n",
      "Take a sleep\n",
      "Take two constipations\n",
      "avoiding breathing nursing\n",
      "Causes constipation Causes constipation\n",
      "\n",
      "Remember that your doctor has prescribed this medication because he or she has judged that the benefit to you is greater than the risk of side effects.\n",
      "\n"
     ]
    }
   ],
   "source": [
    "rmb = \"Remember that your doctor has prescribed this medication because he or she has judged that the benefit to you is greater than the risk of side effects.\"\n",
    "take_instruct = random.choice(take_list) + \". \"\n",
    "pill = random.choice(pill_name) + \"\\n\"\n",
    "awake = random.sample(survey, 2)\n",
    "effect = \"Causes \" + random.choice(side_effects)\n",
    "\n",
    "rules = {\n",
    "    \"origin1\": '#line1A#\\n#line1B#\\n#line1C#\\n#line2A#\\n#line2B#\\n#line1A#\\n#line1B#\\n#line1D#\\n#effects# #effects#',\n",
    "    \"line1A\": 'Take a #noun#',\n",
    "    \"line1B\": 'Take two #noun#s',\n",
    "    \"line1C\": take_instruct,\n",
    "    \"line1D\": \"#ing# #ing# #ing#\",\n",
    "    \"line2A\": '#noun# #noun# #noun# #noun# how #adj#',\n",
    "    \"line2B\": '#pronoun# #verb# #pronoun# #verb#',\n",
    "    \"line3\": awake,\n",
    "    \"noun\": med_nouns,\n",
    "    \"pronoun\": med_pronouns,\n",
    "    \"verb\": med_verb,\n",
    "    \"adj\": med_adj,\n",
    "    \"effects\": effect,\n",
    "    \"ing\": ing_result\n",
    "}\n",
    "\n",
    "grammar = tracery.Grammar(rules)\n",
    "grammar.add_modifiers(base_english)\n",
    "\n",
    "print(\"2.\\n\" + pill)\n",
    "print(\"\\n\".join(awake).capitalize() + \"\\n\")\n",
    "\n",
    "print(grammar.flatten('#origin#')+\"\\n\")\n",
    "print(rmb + \"\\n\")"
   ]
  },
  {
   "cell_type": "markdown",
   "metadata": {},
   "source": [
    "## B) Stanza Three (Survey answer + Take one, 1/2, two + still awake+impt)"
   ]
  },
  {
   "cell_type": "code",
   "execution_count": 354,
   "metadata": {},
   "outputs": [
    {
     "name": "stdout",
     "output_type": "stream",
     "text": [
      "3.\n",
      "(dox-EH-pin)\n",
      "\n",
      "Maybe i’ve been wasting my time, all this time\n",
      "interacting with people. just thinking about it is terrifying. \n",
      "\n",
      "Take one pharmacist\n",
      "Take half a pounding drink\n",
      "causes addiction\n",
      "      still awake causes addiction I am still awake\n",
      "Take one glaucoma\n",
      "Take two clothings\n",
      "screening stopping standing anything\n",
      "It is important to continue taking this medication even if you feel well. Do not stop taking this medication without consulting your doctor\n"
     ]
    }
   ],
   "source": [
    "impt = \"It is important to continue taking this medication even if you feel well. Do not stop taking this medication without consulting your doctor\"\n",
    "take_instruct = random.choice(take_list)\n",
    "pill = random.choice(pill_name) + \"\\n\"\n",
    "awake = random.sample(survey, 2)\n",
    "effect = \"causes \" + random.choice(side_effects)\n",
    "\n",
    "rules = {\n",
    "    \"origin\": '#line1A#\\n#line1B#\\n#effects#\\n#still_up#\\n#line1A#\\n#line1B2#\\n#line1D#',\n",
    "    \"line1A\": 'Take one #noun#',\n",
    "    \"line1B\": 'Take half a #ing# #noun#',\n",
    "    \"line1B2\": 'Take two #noun#s',\n",
    "    \"line1C\": take_instruct,\n",
    "    \"line1D\": \"#ing# #ing# #ing# anything\",\n",
    "    \"line2A\": '#ing# #noun# #noun# #noun# it is #ing#',\n",
    "    \"line2B\": '#pronoun# #verb# #pronoun# #verb#',\n",
    "    \"line3\": awake,\n",
    "    \"noun\": med_nouns,\n",
    "    \"pronoun\": med_pronouns,\n",
    "    \"verb\": med_verb,\n",
    "    \"adj\": med_adj,\n",
    "    \"effects\": effect,\n",
    "    \"still_up\": \"      still awake #effects# I am still awake\",\n",
    "    \"ing\": ing_result\n",
    "}\n",
    "\n",
    "grammar = tracery.Grammar(rules)\n",
    "grammar.add_modifiers(base_english)\n",
    "\n",
    "print(\"3.\\n\" + pill)\n",
    "print(\"\\n\".join(awake).capitalize() + \"\\n\")\n",
    "\n",
    "print(grammar.flatten('#origin#'))\n",
    "print(impt)"
   ]
  },
  {
   "cell_type": "markdown",
   "metadata": {},
   "source": [
    "## C) Stanza Four (Survey answer + Take One x2 + Take Instruct + Just Take A Pill)"
   ]
  },
  {
   "cell_type": "code",
   "execution_count": 371,
   "metadata": {},
   "outputs": [
    {
     "name": "stdout",
     "output_type": "stream",
     "text": [
      "4.\n",
      "(PRAZ-oh-sin)\n",
      "\n",
      "Anxiety. sometimes too many thoughts/worries in my head.\n",
      "the boy i like and wondering what he thinks about me\n",
      "\n",
      "Take one kidney\n",
      "Take one stopping drug\n",
      "Take this medication by mouth with or without food, usually two or three times daily or as directed by your doctor\n",
      "passing tanning causing it is consulting\n",
      "Anxiety about the present\n",
      "relaxing having waking it is urinating\n",
      "Just take a (PRAZ-oh-sin)\n",
      "\n"
     ]
    }
   ],
   "source": [
    "impt = \"It is important to continue taking this medication even if you feel well. Do not stop taking this medication without consulting your doctor\"\n",
    "take_instruct = random.choice(take_list)\n",
    "pill = random.choice(pill_name) + \"\\n\"\n",
    "awake = random.sample(survey, 2)\n",
    "awake2 = random.choice(survey)\n",
    "effect = \"causes \" + random.choice(side_effects)\n",
    "\n",
    "rules = {\n",
    "    \"origin\": '#line1A#\\n#line1B#\\n#line1C#\\n#line2A#\\n#line3B#\\n#line2A#\\n#just#',\n",
    "    \"line1A\": 'Take one #noun#',\n",
    "    \"line1B\": 'Take one #ing# #noun#',\n",
    "    \"line1B2\": 'Take two #noun#s',\n",
    "    \"line1C\": take_instruct,\n",
    "    \"line1D\": \"#ing# #ing# #ing# anything\",\n",
    "    \"line2A\": '#ing# #ing# #ing# it is #ing#',\n",
    "    \"line2B\": '#pronoun# #verb# #pronoun# #verb#',\n",
    "    \"line3\": awake,\n",
    "    \"line3B\": awake2,\n",
    "    \"noun\": med_nouns,\n",
    "    \"pronoun\": med_pronouns,\n",
    "    \"verb\": med_verb,\n",
    "    \"adj\": med_adj,\n",
    "    \"effects\": effect,\n",
    "    \"ing\": ing_result,\n",
    "    \"pill\": pill,\n",
    "    \"just\": \"Just take a #pill#\"\n",
    "}\n",
    "\n",
    "grammar = tracery.Grammar(rules)\n",
    "grammar.add_modifiers(base_english)\n",
    "\n",
    "print(\"4.\\n\" + pill)\n",
    "print(\"\\n\".join(awake).capitalize() + \"\\n\")\n",
    "\n",
    "print(grammar.flatten('#origin#'))"
   ]
  },
  {
   "cell_type": "markdown",
   "metadata": {},
   "source": [
    "# !!! Compile One !!!"
   ]
  },
  {
   "cell_type": "code",
   "execution_count": 401,
   "metadata": {},
   "outputs": [
    {
     "name": "stdout",
     "output_type": "stream",
     "text": [
      "Two Decades of Insomnia: Just Take a Pill\n",
      "\n",
      "1.\n",
      "(PRAZ-oh-sin)\n",
      "\n",
      "They keep coming back to me, sometimes waking me up as they appear in my dreams. at other times it would be the real life pressures — the preparation of the wedding, the renewal of contract, the buying of the new flats, you know, all these combined together make me very tensed and alert.\n",
      "other peoples’ opinions of me and emotions toward me \n",
      "\n",
      "Take one candy\n",
      "Take two contacts\n",
      "Take your next dose at the regular time. \n",
      "\n",
      "2.\n",
      "(PRAZ-oh-sin)\n",
      "\n",
      "Re-playing the conversations of the day and wondering why i said the things i said when i did and why i’m not more clever\n",
      "am i too self-centered? why am i so concerned about me all the time?\n",
      "\n",
      "Take one sex\n",
      "Take two addictions\n",
      "Take this first dose as you are going to bed. \n",
      "constipation drink experience liver how awake\n",
      "you persists it is\n",
      "Take one planning\n",
      "Take two blockers\n",
      "anything lying selecting\n",
      "Causes confusion Causes confusion\n",
      "\n",
      "Remember that your doctor has prescribed this medication because he or she has judged that the benefit to you is greater than the risk of side effects.\n",
      "\n",
      "3.\n",
      "(the-MAZ-eh-pam)\n",
      "\n",
      "Fears of failure\n",
      "thoughts about how i can do what i do better.\n",
      "\n",
      "Take one list\n",
      "Take half a starting liver\n",
      "Causes confusion\n",
      "      still awake Causes confusion I am still awake\n",
      "Take one constipation\n",
      "Take two kidneys\n",
      "planning driving tanning anything\n",
      "It is important to continue taking this medication even if you feel well. Do not stop taking this medication without consulting your doctor\n",
      "\n",
      "4.\n",
      "(PRAZ-oh-sin)\n",
      "\n",
      "Everything is fine. things will be fine tomorrow. \n",
      "why do i feel so strongly? \n",
      "\n",
      "Take one mood\n",
      "Take one breathing cause\n",
      "Take your first new dose at bedtime when your dose is increased unless directed otherwise by your doctor.. \n",
      "planning nursing breathing it is stopping\n",
      "Coffee. Stress. Question unanswered. Uncertainties.\n",
      "during urinating pounding it is sleeping\n",
      "Just take a (PRAZ-oh-sin)\n",
      "\n"
     ]
    }
   ],
   "source": [
    "rmb = \"Remember that your doctor has prescribed this medication because he or she has judged that the benefit to you is greater than the risk of side effects.\"\n",
    "impt = \"It is important to continue taking this medication even if you feel well. Do not stop taking this medication without consulting your doctor\"\n",
    "take_instruct1 = random.choice(take_list) + \". \"\n",
    "take_instruct2 = random.choice(take_list) + \". \"\n",
    "take_instruct3 = random.choice(take_list) + \". \"\n",
    "pill_1 = random.choice(pill_name) + \"\\n\"\n",
    "pill_2 = random.choice(pill_name) + \"\\n\"\n",
    "pill_3 = random.choice(pill_name) + \"\\n\"\n",
    "pill_4 = random.choice(pill_name) + \"\\n\"\n",
    "awake1 = random.sample(survey, 2)\n",
    "awake2 = random.sample(survey, 2)\n",
    "awake3 = random.sample(survey, 2)\n",
    "awake4 = random.sample(survey, 2)\n",
    "awake_onlyOne = random.choice(survey)\n",
    "effect = \"Causes \" + random.choice(side_effects)\n",
    "\n",
    "rules = {\n",
    "    \"origin1\": '#line1A#\\n#line1B#\\n#line1C-1#',\n",
    "    \"origin2\": '#line1A#\\n#line1B#\\n#line1C-2#\\n#line2A#\\n#line2B#\\n#line1A#\\n#line1B#\\n#line1D#\\n#effects# #effects#',\n",
    "    \"origin3\": '#line1A#\\n#line1B2#\\n#effects#\\n#still_up#\\n#line1A#\\n#line1B#\\n#line1D2#',\n",
    "    \"origin4\": '#line1A#\\n#line1A2#\\n#line1C-3#\\n#line1D3#\\n#awake_onlyOne#\\n#line1D3#\\n#just#',\n",
    "    \"line1A\": 'Take one #noun#',\n",
    "    \"line1A2\": 'Take one #ing# #noun#',\n",
    "    \"line1B\": 'Take two #noun#s',\n",
    "    \"line1B2\": 'Take half a #ing# #noun#',\n",
    "    \"line1C-1\": take_instruct1,\n",
    "    \"line1C-2\": take_instruct2,\n",
    "    \"line1C-3\": take_instruct3,\n",
    "    \"line1D\": \"#ing# #ing# #ing#\",\n",
    "    \"line1D2\": \"#ing# #ing# #ing# anything\",\n",
    "    \"line1D3\": \"#ing# #ing# #ing# it is #ing#\",\n",
    "    \"noun\": med_nouns,\n",
    "    \"pronoun\": med_pronouns,\n",
    "    \"verb\": med_verb,\n",
    "    \"adj\": med_adj,\n",
    "    \"line2A\": '#noun# #noun# #noun# #noun# how #adj#',\n",
    "    \"line2B\": '#pronoun# #verb# #pronoun# #verb#',\n",
    "    \"effects\": effect,\n",
    "    \"awake_onlyOne\": awake_onlyOne,\n",
    "    \"ing\": ing_result,\n",
    "    \"still_up\": \"      still awake #effects# I am still awake\",\n",
    "    \"just\": \"Just take a #pill#\",\n",
    "    \"pill\":pill_1\n",
    "}\n",
    "\n",
    "grammar = tracery.Grammar(rules)\n",
    "grammar.add_modifiers(base_english)\n",
    "\n",
    "print(\"Two Decades of Insomnia: Just Take a Pill\" + \"\\n\")\n",
    "\n",
    "print(\"1.\\n\" + pill_1)\n",
    "print(\"\\n\".join(awake1).capitalize() + \"\\n\")\n",
    "print(grammar.flatten('#origin1#') + \"\\n\")\n",
    "\n",
    "print(\"2.\\n\" + pill_2)\n",
    "print(\"\\n\".join(awake2).capitalize() + \"\\n\")\n",
    "print(grammar.flatten('#origin2#') + \"\\n\")\n",
    "print(rmb + \"\\n\")\n",
    "\n",
    "print(\"3.\\n\" + pill_3)\n",
    "print(\"\\n\".join(awake3).capitalize() + \"\\n\")\n",
    "print(grammar.flatten('#origin3#'))\n",
    "print(impt + \"\\n\")\n",
    "\n",
    "print(\"4.\\n\" + pill_4)\n",
    "print(\"\\n\".join(awake4).capitalize() + \"\\n\")\n",
    "print(grammar.flatten('#origin4#'))"
   ]
  },
  {
   "cell_type": "code",
   "execution_count": null,
   "metadata": {},
   "outputs": [],
   "source": []
  }
 ],
 "metadata": {
  "kernelspec": {
   "display_name": "Python 3",
   "language": "python",
   "name": "python3"
  },
  "language_info": {
   "codemirror_mode": {
    "name": "ipython",
    "version": 3
   },
   "file_extension": ".py",
   "mimetype": "text/x-python",
   "name": "python",
   "nbconvert_exporter": "python",
   "pygments_lexer": "ipython3",
   "version": "3.7.1"
  }
 },
 "nbformat": 4,
 "nbformat_minor": 2
}
